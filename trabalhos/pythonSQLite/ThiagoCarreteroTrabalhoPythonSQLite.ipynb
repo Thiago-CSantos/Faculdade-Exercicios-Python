{
 "cells": [
  {
   "attachments": {},
   "cell_type": "markdown",
   "metadata": {},
   "source": [
    "<font color = 'red'>\n",
    "<h1> Trabalho de Introdução a Projetos de Engenharia [Python] </h1> \n",
    "<h2><strong>Nome:</strong> Thiago Carretero dos Santos</h2>\n",
    "</font>    "
   ]
  },
  {
   "cell_type": "markdown",
   "metadata": {},
   "source": [
    "<h2> Persistência de Dados usando SQLite </h2>"
   ]
  },
  {
   "cell_type": "markdown",
   "metadata": {},
   "source": [
    "<p>\n",
    "<b>Objetivo Principal do Trabalho:</b> aprender a realizar um CRUD (cadastro, leitura, atualização e remoção) de dados em um Banco de Dados com a Linguagem Python.\n",
    "</p>\n",
    "\n",
    "<p>\n",
    "    <b>Objetivo Secundário do Trabalho:</b> aprender a manipular funções na Linguagem Python.    \n",
    "</p>    "
   ]
  },
  {
   "cell_type": "markdown",
   "metadata": {},
   "source": [
    "<b>Problema a ser resolvido:</b>\n",
    "<ol>\n",
    "    <li>Criar um banco de dados chamado <b>banco_dados.db</b>.</li>\n",
    "    <li>Criar uma função, denominada <b>criar_tabela()</b> para realizar a criação de uma tabela de nome <b>produto</b>. A tabela deverá ter os campos com os respectivos tipos apresentados abaixo.</li>\n",
    "    <img src = \"img_tabela.png\" width = 500px height = 500px/>\n",
    "    <li>Criar as funções: \n",
    "        <ul>\n",
    "            <li><b>inserir_dados()</b> : deverá inserir novos dados na tabela. Ou seja cadastrar novos produtos.</li>\n",
    "            <li><b>listar_dados()</b> : deverá listar todos os produtos cadastrados na tabela.</li>\n",
    "            <li><b>atualizar_dados()</b> : todos os produtos que tiverem valor igual a 98.00 deverão ser alterados para 140.00.</li>\n",
    "            <li><b>remover_dados()</b> : deverá excluir da tabela todos os produtos que tiverem valor igual a 62.00.</li>\n",
    "        </ul>    \n",
    "    </li>\n",
    "</ol>"
   ]
  },
  {
   "cell_type": "markdown",
   "metadata": {},
   "source": [
    "<b> Para testar as funções você deverá </b>\n",
    "<ol>\n",
    "    <li>Executar a função <b>criar_tabela()</b>.</li>\n",
    "    <li>Executar a função <b>inserir_dados()</b>. Os dados que deverão ser inseridos na tabela são apresentados na imagem abaixo.</li>\n",
    "    <img src = \"img_inserir.png\" width = 400px height = 400px/>\n",
    "    <li>Executar a função <b>listar_dados()</b>.</li>\n",
    "    <li>Executar a função <b>atualizar_dados()</b>.</li>\n",
    "    <li>Executar a função <b>listar_dados()</b>.</li>\n",
    "    <li>Executar a função <b>remover_dados()</b>.</li>\n",
    "    <li>Executar a função <b>listar_dados()</b>.</li>\n",
    "</ol>    "
   ]
  },
  {
   "cell_type": "code",
   "execution_count": 1,
   "metadata": {},
   "outputs": [],
   "source": [
    "# Importação do Banco de Dados SQLite\n",
    "import sqlite3\n",
    "\n",
    "# Criação de uma conexão\n",
    "connect = sqlite3.connect('banco_dados.db')\n",
    "\n",
    "# Criação de um cursor\n",
    "cursor = connect.cursor()\n",
    "\n",
    "# Função para criar uma tabela\n",
    "def criar_tabela():\n",
    "    cursor.execute(\"CREATE TABLE produto (id INTEGER PRIMARY KEY, data TEXT, nome TEXT, valor REAL)\") #Pode se usar REAL ou DOUBLE é mais preciso\n",
    "\n",
    "# A tabela deverá ter nome \"produto\" e os seus campos deverão ser:\n",
    "  # id --> do tipo inteiro, chave primária e auto incrementada.\n",
    "  # data --> do tipo texto\n",
    "  # nome --> do tipo texto\n",
    "  # valor --> do tipo real\n",
    "\n",
    "\n",
    "\n",
    "# Função para inserir dados na tabela\n",
    "def inserir_dados(data, nome, valor):\n",
    "    cursor.execute(\"INSERT INTO produto(data,nome,valor) VALUES(?,?,?)\", (data, nome,valor))\n",
    "\n",
    "    connect.commit()\n",
    "\n",
    "\n",
    "# Função para listar todos os dados da tabela\n",
    "def listar_dados():\n",
    "    cursor.execute(\"SELECT * FROM produto\")\n",
    "    print(cursor.fetchall())\n",
    "\n",
    "    connect.commit()\n",
    "\n",
    "\n",
    "# Função para atualizar os dados. \n",
    "# Esta função deverá alterar o campo 'valor' dos produtos que tiverem valor = 98 para valor = 140.\n",
    "def atualizar_dados(valor_set, valor_where):\n",
    "    cursor.execute(\"UPDATE produto SET valor = ? WHERE valor == ? \", (valor_set, valor_where,))\n",
    "\n",
    "    connect.commit()\n",
    "\n",
    "\n",
    "# Função para deletar dados. \n",
    "# Esta função deverá apagar somente os dados registrados cuja o valor do produto é igual a 62.0\n",
    "def remover_dados(valor):\n",
    "    cursor.execute(\"DELETE FROM produto WHERE valor = ?\",(valor,))\n",
    "\n",
    "    connect.commit()\n",
    "\n",
    "\n"
   ]
  },
  {
   "cell_type": "code",
   "execution_count": 2,
   "metadata": {},
   "outputs": [],
   "source": [
    "# Execute a função para criar a tabela no banco de dados\n",
    "criar_tabela()\n"
   ]
  },
  {
   "cell_type": "code",
   "execution_count": 3,
   "metadata": {},
   "outputs": [],
   "source": [
    "# Execute a função para inserir dados na tabela.\n",
    "inserir_dados('02-04-2020', 'Teclado', 62.0)\n",
    "inserir_dados('03-04-2020', 'Monitor', 98.0)\n",
    "inserir_dados('04-04-2020', 'Mouse', 30.0)\n",
    "inserir_dados('05-04-2020', 'Memoria', 162.0)\n",
    "inserir_dados('06-04-2020', 'Caixa de Som', 98.0)"
   ]
  },
  {
   "cell_type": "code",
   "execution_count": 4,
   "metadata": {},
   "outputs": [
    {
     "name": "stdout",
     "output_type": "stream",
     "text": [
      "[(1, '02-04-2020', 'Teclado', 62.0), (2, '03-04-2020', 'Monitor', 98.0), (3, '04-04-2020', 'Mouse', 30.0), (4, '05-04-2020', 'Memoria', 162.0), (5, '06-04-2020', 'Caixa de Som', 98.0)]\n"
     ]
    }
   ],
   "source": [
    "# Execute a função para listar todos os dados cadastrados na tabela produto\n",
    "listar_dados()\n"
   ]
  },
  {
   "cell_type": "code",
   "execution_count": 5,
   "metadata": {},
   "outputs": [],
   "source": [
    "# Execute a função para atualizar os dados cadastrados na tabela produto\n",
    "atualizar_dados(140.0,98.0)\n"
   ]
  },
  {
   "cell_type": "code",
   "execution_count": 6,
   "metadata": {},
   "outputs": [
    {
     "name": "stdout",
     "output_type": "stream",
     "text": [
      "[(1, '02-04-2020', 'Teclado', 62.0), (2, '03-04-2020', 'Monitor', 140.0), (3, '04-04-2020', 'Mouse', 30.0), (4, '05-04-2020', 'Memoria', 162.0), (5, '06-04-2020', 'Caixa de Som', 140.0)]\n"
     ]
    }
   ],
   "source": [
    "# Execute a função para listar todos os dados cadastrados na tabela produto\n",
    "listar_dados()\n"
   ]
  },
  {
   "cell_type": "code",
   "execution_count": 7,
   "metadata": {},
   "outputs": [],
   "source": [
    "# Execute a função para remover os dados da tabela\n",
    "remover_dados(62.0)\n"
   ]
  },
  {
   "cell_type": "code",
   "execution_count": 8,
   "metadata": {},
   "outputs": [
    {
     "name": "stdout",
     "output_type": "stream",
     "text": [
      "[(2, '03-04-2020', 'Monitor', 140.0), (3, '04-04-2020', 'Mouse', 30.0), (4, '05-04-2020', 'Memoria', 162.0), (5, '06-04-2020', 'Caixa de Som', 140.0)]\n"
     ]
    }
   ],
   "source": [
    "# Execute a função para listar todos os dados cadastrados na tabela produto\n",
    "listar_dados()"
   ]
  }
 ],
 "metadata": {
  "kernelspec": {
   "display_name": "Python 3 (ipykernel)",
   "language": "python",
   "name": "python3"
  },
  "language_info": {
   "codemirror_mode": {
    "name": "ipython",
    "version": 3
   },
   "file_extension": ".py",
   "mimetype": "text/x-python",
   "name": "python",
   "nbconvert_exporter": "python",
   "pygments_lexer": "ipython3",
   "version": "3.11.0"
  }
 },
 "nbformat": 4,
 "nbformat_minor": 4
}
