{
 "cells": [
  {
   "cell_type": "markdown",
   "metadata": {},
   "source": [
    "# Atividade para Nota - Tipo de Dado 'Dicionário'"
   ]
  },
  {
   "attachments": {},
   "cell_type": "markdown",
   "metadata": {},
   "source": [
    "### Thiago Carretero dos Santos\n",
    "### Guilherme Dias Gregorio"
   ]
  },
  {
   "cell_type": "markdown",
   "metadata": {},
   "source": []
  },
  {
   "cell_type": "markdown",
   "metadata": {},
   "source": [
    "Definição:"
   ]
  },
  {
   "cell_type": "markdown",
   "metadata": {},
   "source": [
    "<font color = blue>\n",
    "<h3> Questão 2 </h3>\n",
    "\n",
    "<p>\n",
    "    Construa um exemplo apresentando:\n",
    "</p>\n",
    "<ul>\n",
    "    <li> A criação de um dicionário.</li>\n",
    "    <li> A exibição de um elemento específico do dicionário.</li>\n",
    "    <li> A exibição de de todos os elementos do dicionário.</li>\n",
    "    </ul>    \n",
    "</font>"
   ]
  },
  {
   "cell_type": "code",
   "execution_count": 5,
   "metadata": {},
   "outputs": [],
   "source": [
    "# Criação do dicionário\n",
    "emails_gerente = {\n",
    "    \"Iguatemi\" : \"iguatemi@gmail.com\",\n",
    "    \"Plaza\" : \"plaza@gmail.com\",\n",
    "    \"Barra\" : \"barra@gmail.com\"\n",
    "}"
   ]
  },
  {
   "cell_type": "code",
   "execution_count": 6,
   "metadata": {},
   "outputs": [
    {
     "name": "stdout",
     "output_type": "stream",
     "text": [
      "iguatemi@gmail.com\n"
     ]
    }
   ],
   "source": [
    "# Exibição de um elemento específico do dicionário.\n",
    "email = emails_gerente['Iguatemi']\n",
    "print(email)"
   ]
  },
  {
   "cell_type": "code",
   "execution_count": 7,
   "metadata": {},
   "outputs": [
    {
     "name": "stdout",
     "output_type": "stream",
     "text": [
      "{'Iguatemi': 'iguatemi@gmail.com', 'Plaza': 'plaza@gmail.com', 'Barra': 'barra@gmail.com'}\n"
     ]
    }
   ],
   "source": [
    "# Exibição de todos os elementos do dicionário.\n",
    "print(emails_gerente)"
   ]
  },
  {
   "cell_type": "markdown",
   "metadata": {},
   "source": [
    "<font color = blue>\n",
    "<h3> Questão 3 </h3>\n",
    "\n",
    "<p>\n",
    "    Construa um exemplo apresentando:\n",
    "</p>\n",
    "<ul>\n",
    "    <li> A criação de um dicionário.</li>\n",
    "    <li> O uso da palavra-chave <b>in</b> para verificar a existência de uma chave específica no dicionário criado.</li>\n",
    "</ul>    \n",
    "</font>"
   ]
  },
  {
   "cell_type": "code",
   "execution_count": 8,
   "metadata": {},
   "outputs": [],
   "source": [
    "# Criação de um dicionário\n",
    "preco_eletronicos = {\n",
    "    'Iphone': 2000,\n",
    "    'Ipad': 6000,\n",
    "    'Fone_bluetooth': 300 \n",
    "}"
   ]
  },
  {
   "cell_type": "code",
   "execution_count": 12,
   "metadata": {},
   "outputs": [
    {
     "name": "stdout",
     "output_type": "stream",
     "text": [
      "Existe\n",
      "{'Iphone': 2000, 'Ipad': 6000, 'Fone_bluetooth': 300}\n"
     ]
    }
   ],
   "source": [
    "# Exemplificação do uso da palavra-chave in\n",
    "if 'Iphone' in preco_eletronicos:\n",
    "    print(\"Existe\")\n",
    "else:\n",
    "    print(\"Não existe\")\n",
    "    \n",
    "print(preco_eletronicos)  "
   ]
  },
  {
   "cell_type": "markdown",
   "metadata": {},
   "source": [
    "<font color = blue>\n",
    "<h3> Questão 4 </h3>\n",
    "\n",
    "<p>\n",
    "    Construa um exemplo apresentando:\n",
    "</p>\n",
    "<ul>\n",
    "    <li> A criação de um dicionário.</li>\n",
    "    <li> A exibição de todos os elementos do dicionário.</li>\n",
    "    <li> A alteração de 2 elementos com novos valores.</li>\n",
    "    </ul>    \n",
    "</font>"
   ]
  },
  {
   "cell_type": "code",
   "execution_count": 36,
   "metadata": {},
   "outputs": [],
   "source": [
    "# Criação de um dicionário\n",
    "nome_idades = {\n",
    "    'Thiago': 19,\n",
    "    'Guilherme': 18,\n",
    "    'Rogerio': None\n",
    "}"
   ]
  },
  {
   "cell_type": "code",
   "execution_count": 46,
   "metadata": {},
   "outputs": [
    {
     "name": "stdout",
     "output_type": "stream",
     "text": [
      "{'Thiago': 45, 'Guilherme': 18, 'Rogerio': 25}\n",
      "\n",
      "com for\n",
      "\n",
      "Thiago  :  45\n",
      "Guilherme  :  18\n",
      "Rogerio  :  25\n"
     ]
    }
   ],
   "source": [
    "# Exibição de todos os elementos do dicionário\n",
    "nomesIdade = nome_idades\n",
    "print(nomesIdade)\n",
    "\n",
    "# ou usar o for \n",
    "print(\"\\ncom for\\n\")\n",
    "for chave, valor in nome_idades.items():\n",
    "    print(chave, \" : \", valor)"
   ]
  },
  {
   "cell_type": "code",
   "execution_count": 40,
   "metadata": {},
   "outputs": [
    {
     "name": "stdout",
     "output_type": "stream",
     "text": [
      "{'Thiago': 45, 'Guilherme': 18, 'Rogerio': 25}\n"
     ]
    }
   ],
   "source": [
    "# Alteração de 2 elementos com novos valores\n",
    "nome_idades[\"Thiago\"] = 45\n",
    "nome_idades[\"Rogerio\"] = 25\n",
    "print(nome_idades)"
   ]
  },
  {
   "cell_type": "markdown",
   "metadata": {},
   "source": [
    "<font color = blue>\n",
    "<h3> Questão 5 </h3>\n",
    "\n",
    "<p>\n",
    "    Construa um exemplo apresentando:\n",
    "</p>\n",
    "<ul>\n",
    "    <li> A criação de um dicionário.</li>\n",
    "    <li> A adição de 2 novos elementos no dicionário.</li>\n",
    "    <li> A exibição de todos os elementos do dicionário.</li>\n",
    "    </ul>    \n",
    "</font>"
   ]
  },
  {
   "cell_type": "code",
   "execution_count": 43,
   "metadata": {},
   "outputs": [],
   "source": [
    "# Criação de um dicionário\n",
    "filme = {\n",
    "    'tiutlo' : 'Star Wars',\n",
    "    'ano' : 1977\n",
    "}"
   ]
  },
  {
   "cell_type": "code",
   "execution_count": 44,
   "metadata": {},
   "outputs": [],
   "source": [
    "# Adição de 2 novos elementos no dicionário\n",
    "filme['diretor'] = 'George Lucas'\n",
    "filme['arrecadaram'] = 1000000000"
   ]
  },
  {
   "cell_type": "code",
   "execution_count": 45,
   "metadata": {},
   "outputs": [
    {
     "name": "stdout",
     "output_type": "stream",
     "text": [
      "{'tiutlo': 'Star Wars', 'ano': 1977, 'diretor': 'George Lucas', 'arrecadaram': 1000000000}\n"
     ]
    }
   ],
   "source": [
    "# Exibição de todos os elementos no dicionário\n",
    "print(filme)"
   ]
  },
  {
   "cell_type": "markdown",
   "metadata": {},
   "source": [
    "<font color = blue>\n",
    "<h3> Questão 6 </h3>\n",
    "\n",
    "<p>\n",
    "    Construa um exemplo apresentando:\n",
    "</p>\n",
    "<ul>\n",
    "    <li> A criação de um dicionário.</li>\n",
    "    <li> A remoção de itens no dicionário usando os métodos <b>pop()</b>, <b>popitem()</b> e <b>del</b>.</li>\n",
    "    </ul>    \n",
    "</font>"
   ]
  },
  {
   "cell_type": "code",
   "execution_count": 71,
   "metadata": {},
   "outputs": [],
   "source": [
    "# Criação de um dicionário\n",
    "dicionario = {\n",
    "    'chave1': 'valor1',\n",
    "    'chave2': 'valor2',\n",
    "    'chave3': 'valor3',\n",
    "    'chave4': 'valor4',\n",
    "}"
   ]
  },
  {
   "cell_type": "code",
   "execution_count": 72,
   "metadata": {},
   "outputs": [
    {
     "data": {
      "text/plain": [
       "('chave3', 'valor3')"
      ]
     },
     "execution_count": 72,
     "metadata": {},
     "output_type": "execute_result"
    }
   ],
   "source": [
    "# Exclusão de elementos do dicionário usando os métodos pop(), popitem() e del()\n",
    "dicionario.pop(\"chave1\")\n",
    "del dicionario['chave4']\n",
    "dicionario.popitem()"
   ]
  },
  {
   "cell_type": "markdown",
   "metadata": {},
   "source": [
    "<font color = blue>\n",
    "<h3> Questão 7 </h3>\n",
    "\n",
    "<p>\n",
    "    Construa um exemplo apresentando:\n",
    "</p>\n",
    "<ul>\n",
    "    <li> A criação de um dicionário.</li>\n",
    "    <li> A cópia de um dicionário usando o método <b>copy()</b>.</li>\n",
    "    <li> O uso do método <b>keys()</b> para retornar uma lista contendo as chaves do dicionário.</li>\n",
    "    <li> O uso do método <b>values()</b> para retornar uma lista contendo os valores do dicionário.</li>\n",
    "    <li> O uso do método <b>items()</b> para retornar uma tupla para cada par de chave/valor do dicionário.</li>\n",
    "    </ul>    \n",
    "</font>"
   ]
  },
  {
   "cell_type": "code",
   "execution_count": 74,
   "metadata": {},
   "outputs": [],
   "source": [
    "# Criação de um dicionário\n",
    "tenis = {\n",
    "    'Marca': 'Nike',\n",
    "    'Tamanho': 41,\n",
    "    'Descricao': 'Lorem Ipsum is simply dummy text of the printing and typesetting industry.'\n",
    "}"
   ]
  },
  {
   "cell_type": "code",
   "execution_count": 76,
   "metadata": {},
   "outputs": [],
   "source": [
    "# Cópia do dicionário\n",
    "tenis_copia = tenis.copy()"
   ]
  },
  {
   "cell_type": "code",
   "execution_count": 79,
   "metadata": {},
   "outputs": [
    {
     "name": "stdout",
     "output_type": "stream",
     "text": [
      "dict_keys(['Marca', 'Tamanho', 'Descricao'])\n",
      "Marca\n",
      "Tamanho\n",
      "Descricao\n"
     ]
    }
   ],
   "source": [
    "# Uso do método keys()\n",
    "tenis_valores =  tenis.keys()\n",
    "print(tenis_valores)\n",
    "# ou interando com for\n",
    "\n",
    "for keys in tenis.keys():\n",
    "    print(keys) "
   ]
  },
  {
   "cell_type": "code",
   "execution_count": 81,
   "metadata": {},
   "outputs": [
    {
     "name": "stdout",
     "output_type": "stream",
     "text": [
      "dict_values(['Nike', 41, 'Lorem Ipsum is simply dummy text of the printing and typesetting industry.'])\n",
      "Nike\n",
      "41\n",
      "Lorem Ipsum is simply dummy text of the printing and typesetting industry.\n"
     ]
    }
   ],
   "source": [
    "# Uso do método values()\n",
    "tenis_valores =  tenis.values()\n",
    "print(tenis_valores)\n",
    "# ou interando com for\n",
    "\n",
    "for values in tenis.values():\n",
    "    print(values) "
   ]
  },
  {
   "cell_type": "code",
   "execution_count": 82,
   "metadata": {},
   "outputs": [
    {
     "name": "stdout",
     "output_type": "stream",
     "text": [
      "dict_items([('Marca', 'Nike'), ('Tamanho', 41), ('Descricao', 'Lorem Ipsum is simply dummy text of the printing and typesetting industry.')])\n"
     ]
    }
   ],
   "source": [
    "# Uso do método items()\n",
    "tenis_items =  tenis.items()\n",
    "\n",
    "print(tenis_items)"
   ]
  }
 ],
 "metadata": {
  "kernelspec": {
   "display_name": "Python 3 (ipykernel)",
   "language": "python",
   "name": "python3"
  },
  "language_info": {
   "codemirror_mode": {
    "name": "ipython",
    "version": 3
   },
   "file_extension": ".py",
   "mimetype": "text/x-python",
   "name": "python",
   "nbconvert_exporter": "python",
   "pygments_lexer": "ipython3",
   "version": "3.9.13"
  }
 },
 "nbformat": 4,
 "nbformat_minor": 4
}
